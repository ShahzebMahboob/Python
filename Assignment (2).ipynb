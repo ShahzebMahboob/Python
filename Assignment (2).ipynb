{
 "cells": [
  {
   "cell_type": "markdown",
   "id": "49daff46-458f-4969-b66f-07ac65c4381b",
   "metadata": {},
   "source": [
    "#Theory Question And Answers"
   ]
  },
  {
   "cell_type": "code",
   "execution_count": null,
   "id": "eb2130ef-cb16-4237-a625-09225693fcbd",
   "metadata": {},
   "outputs": [],
   "source": [
    "#Q1. What is python and why is it popular?\n",
    "#Ans. Python is a high-level, interpreted programming language known for its simplicity,redability and versatility.It was created by Guido van Rossum and first released in 1991.\n",
    "# python is popular because of its:-\n",
    "#* Easy to learn and use: Its clear english, like-syntax makes it beginner friendly.\n",
    "#*Versatile: Used in web development,data science,AI/ML,automation.\n",
    "#*Large community: Vast support network of developers,libraries and resources.\n",
    "#*Extensive libraries and frameworks:(Pandas,Nympy(Data),Pytorch (AI)."
   ]
  },
  {
   "cell_type": "code",
   "execution_count": null,
   "id": "d679add5-3381-4168-bf27-3c94e0673f88",
   "metadata": {},
   "outputs": [],
   "source": [
    "#Q2. What is an interpreter in python?\n",
    "#Ans.In python an interpreter is the program that reads and execute python codes line by line.Unlike compiled languages like (C or Java), python does not need to be compiled into machine code before running. Instead, the interpreter processes the code directly and execute it."
   ]
  },
  {
   "cell_type": "code",
   "execution_count": null,
   "id": "e51dd953-6d38-46fe-8bcb-5973f6b81e29",
   "metadata": {},
   "outputs": [],
   "source": [
    "#Q3. What is predefined keywords in python?\n",
    "#Ans. Predefined keywords in python are reserved words that have special meaning and purpose in the language. You cnnot use them as identifier (like variables names,functions name, etc) because they are part of the languages syntax and structure.\n",
    "#xamples of python keywords are:-\n",
    "#* control function: if,else,elif,for,while,break,continue\n",
    "#* Function/defination:def,return,lamda\n",
    "#* Data type:True,False,None\n",
    "#* Importing: import,from,as"
   ]
  },
  {
   "cell_type": "code",
   "execution_count": 4,
   "id": "c58a4895-044a-49c3-8290-346e8b8a0ab4",
   "metadata": {},
   "outputs": [
    {
     "ename": "SyntaxError",
     "evalue": "invalid syntax (2750462070.py, line 4)",
     "output_type": "error",
     "traceback": [
      "\u001b[1;36m  Cell \u001b[1;32mIn[4], line 4\u001b[1;36m\u001b[0m\n\u001b[1;33m    if = 5\u001b[0m\n\u001b[1;37m       ^\u001b[0m\n\u001b[1;31mSyntaxError\u001b[0m\u001b[1;31m:\u001b[0m invalid syntax\n"
     ]
    }
   ],
   "source": [
    "#Q4. Can keywords be used as variable names?\n",
    "#Ans. no keywords cannot be used as variable names in python.Since keywords are reserved words that define the syntax and structure of a language, using them as variable names would cause a syntaxerror.\n",
    "# example:-\n",
    "if = 5 # this cause syntaxerror"
   ]
  },
  {
   "cell_type": "code",
   "execution_count": 12,
   "id": "6c409f61-c1c8-4dd8-9c59-2903add576ba",
   "metadata": {},
   "outputs": [
    {
     "name": "stdout",
     "output_type": "stream",
     "text": [
      "['apple', 'orange', 'cherry', 'grape']\n"
     ]
    }
   ],
   "source": [
    "#Q5. What is mutability in python?\n",
    "#Ans. Mutability in python refers to whether an objects value can be changed after its created.\n",
    "# Two main categories:\n",
    "#1. Mutable objects- can be changed in place.(list,dict,set,bytearray)\n",
    "fruits = [\"apple\", \"banana\", \"cherry\"]\n",
    "fruits[1] = \"orange\"\n",
    "fruits.append(\"grape\")\n",
    "print(fruits)"
   ]
  },
  {
   "cell_type": "code",
   "execution_count": 18,
   "id": "901d5c30-1a81-477d-a7d8-c98ddc0e6178",
   "metadata": {},
   "outputs": [
    {
     "ename": "TypeError",
     "evalue": "'tuple' object does not support item assignment",
     "output_type": "error",
     "traceback": [
      "\u001b[1;31m---------------------------------------------------------------------------\u001b[0m",
      "\u001b[1;31mTypeError\u001b[0m                                 Traceback (most recent call last)",
      "Cell \u001b[1;32mIn[18], line 11\u001b[0m\n\u001b[0;32m      8\u001b[0m my_list[\u001b[38;5;241m0\u001b[39m] \u001b[38;5;241m=\u001b[39m \u001b[38;5;241m10\u001b[39m \u001b[38;5;66;03m#Allowed\u001b[39;00m\n\u001b[0;32m     10\u001b[0m my_tuple \u001b[38;5;241m=\u001b[39m(\u001b[38;5;241m1\u001b[39m, \u001b[38;5;241m2\u001b[39m, \u001b[38;5;241m3\u001b[39m)\n\u001b[1;32m---> 11\u001b[0m my_tuple[\u001b[38;5;241m10\u001b[39m] \u001b[38;5;241m=\u001b[39m \u001b[38;5;241m10\u001b[39m\n",
      "\u001b[1;31mTypeError\u001b[0m: 'tuple' object does not support item assignment"
     ]
    }
   ],
   "source": [
    "#Q6. Why are lists mutable, but tuples are immutable?\n",
    "#Ans.Lists ar mutable and Tuples are immutable because of their design goals and internal implementation in python.\n",
    "# The purpose and uses are:\n",
    "#* Lista are designed to be flexible containers that can grow,shrink,and to be modified.\n",
    "#* Tuples are meant to be fixed collections, often used for data integrity and keys in dictionaries, where immutability is crucial.\n",
    "#Example:\n",
    "my_list = [1, 2, 3]\n",
    "my_list[0] = 10 \n",
    "\n",
    "my_tuple =(1, 2, 3)\n",
    "my_tuple[10] = 10 "
   ]
  },
  {
   "cell_type": "code",
   "execution_count": 20,
   "id": "562acdba-b12f-44cc-9cb5-b3da7e6d3ae0",
   "metadata": {},
   "outputs": [
    {
     "name": "stdout",
     "output_type": "stream",
     "text": [
      "True\n"
     ]
    }
   ],
   "source": [
    "#Q7. What is the difference between “==” and “is” operators in Python?\n",
    "#Ans. In python \"==\" and \"is\" are the two different comparision operators:\n",
    "#1. \"==\" (Equality Operator):\n",
    "#* checks if the values are equal\n",
    "#* compares contents of two variables\n",
    "#* can return True events if the object are stored at different memory locations.\n",
    "\n",
    "#Example:\n",
    "a = [1, 2, 3]\n",
    "b = [1, 2, 3]\n",
    "print(a==b) # same content"
   ]
  },
  {
   "cell_type": "code",
   "execution_count": 22,
   "id": "a50b2547-a5a7-4e7a-8e9f-0b12a759ad97",
   "metadata": {},
   "outputs": [
    {
     "name": "stdout",
     "output_type": "stream",
     "text": [
      "False\n"
     ]
    }
   ],
   "source": [
    "#2. \"is\" (Identity Operator):\n",
    "#* checks if two variables refers to the exact same object in the memory.\n",
    "#* Returns True if both variables points to the same memory address.\n",
    "\n",
    "#Example:\n",
    "a = [1, 2, 3]\n",
    "b = [1, 2, 3]\n",
    "print(a is b) # different object in the memory"
   ]
  },
  {
   "cell_type": "code",
   "execution_count": 24,
   "id": "f8f53d4a-b970-4368-bf03-87b07a62451b",
   "metadata": {},
   "outputs": [
    {
     "name": "stdout",
     "output_type": "stream",
     "text": [
      "True\n",
      "True\n",
      "False\n"
     ]
    }
   ],
   "source": [
    "#Q8. What are logical operators in Python?\n",
    "#Ans. Logical operators in python are used to combine boolean expressions and return True or False based on the logic.\n",
    "# The 3 logicl operators are:\n",
    "#1. and >> returns True if both conditions are True >> True and False \n",
    "#2. or >> returns True if atleast one condition are True >> True or False\n",
    "#3. not >> reverse the boolean value >> not True\n",
    "\n",
    "#Example:\n",
    "a = 10\n",
    "b = 5\n",
    "print(a > 5 and b < 10)\n",
    "print(a < 5 or b < 10)\n",
    "print(not (a == 10))"
   ]
  },
  {
   "cell_type": "code",
   "execution_count": 26,
   "id": "504dfbda-5e9b-4adc-86a8-05f18ee53415",
   "metadata": {},
   "outputs": [
    {
     "name": "stdout",
     "output_type": "stream",
     "text": [
      "12.5\n",
      "123.0\n"
     ]
    }
   ],
   "source": [
    "#Q9. What is type casting in Python?\n",
    "#Ans. Type casting in python is the process of converting a variable from one data type to another.\n",
    "#. Two types of casting:\n",
    "#1. Implicit type casting (automatic)\n",
    "#*. done automatically by python where there is no risk of data loss.\n",
    "# Example:\n",
    "x = 10\n",
    "y = 2.5\n",
    "z =x + y\n",
    "print(z)\n",
    "\n",
    "#2. Explicit type casting (Manual)\n",
    "#*. done by the programmer using built-in functions.\n",
    "# Example:\n",
    "a = \"123\"\n",
    "b = int(a)\n",
    "c = float(b)\n",
    "print(c)"
   ]
  },
  {
   "cell_type": "code",
   "execution_count": 28,
   "id": "e38703d7-df3f-4347-a5ea-0e7d2e0baacf",
   "metadata": {},
   "outputs": [
    {
     "name": "stdout",
     "output_type": "stream",
     "text": [
      "12.5\n",
      "123.0\n"
     ]
    }
   ],
   "source": [
    "#Q10. What is the difference between implicit and explicit type casting?\n",
    "#Ans. The difference between implicit and explicit typecasting in python lies in who performs the conversion and how intentional it is:\n",
    "#1. Implicit type casting (automatic)\n",
    "#*. done automatically by python where there is no risk of data loss.\n",
    "# Example:\n",
    "x = 10\n",
    "y = 2.5\n",
    "z =x + y\n",
    "print(z)\n",
    "\n",
    "#2. Explicit type casting (Manual)\n",
    "#*. done by the programmer using built-in functions.\n",
    "# Example:\n",
    "a = \"123\"\n",
    "b = int(a)\n",
    "c = float(b)\n",
    "print(c)\n"
   ]
  },
  {
   "cell_type": "code",
   "execution_count": 30,
   "id": "0ce423a3-8574-42f5-b77f-50bea5be09ee",
   "metadata": {},
   "outputs": [],
   "source": [
    "#Q11. What is the purpose of conditional statements in Python?\n",
    "#Ans. The purpose of conditional statements in python is to allow a program to make decision and execute different blocks of code based on whether the condition is True or False.\n",
    "# The reason are:\n",
    "#* enables decision making logic\n",
    "#* controls the flow of execution\n",
    "#* allows programs to respond to different inputs or situations\n",
    "# Main conditional statements in python are:\n",
    "#1. if >> executes a block if the condition is True\n",
    "#2. elif >> checks the another condition if the previous if is false\n",
    "#3. else >> executes if all previous conditions are false"
   ]
  },
  {
   "cell_type": "code",
   "execution_count": 32,
   "id": "76993a61-ea55-4ee9-a319-27bc8712050c",
   "metadata": {},
   "outputs": [
    {
     "name": "stdout",
     "output_type": "stream",
     "text": [
      "its warm.\n"
     ]
    }
   ],
   "source": [
    "#Q12. How does the elif statement work?\n",
    "#Ans. The elif statement in python stands for \"else if\". It allows you to check multiple conditions after an initial if statement. It only runs if the previous if or elif conditions were False, and its own condition is True.\n",
    "# Example:\n",
    "temp = 30\n",
    "if temp > 35:\n",
    "    print(\"its very hot.\")\n",
    "elif temp > 25:\n",
    "    print(\"its warm.\")\n",
    "elif temp > 15:\n",
    "    print(\"its cool.\")\n",
    "else:\n",
    "    print(\"its cold.\")"
   ]
  },
  {
   "cell_type": "code",
   "execution_count": 34,
   "id": "0b7be1a7-bd12-49cc-8dd9-b101cab74f3a",
   "metadata": {},
   "outputs": [
    {
     "name": "stdout",
     "output_type": "stream",
     "text": [
      "0\n",
      "1\n",
      "2\n",
      "3\n",
      "4\n",
      "0\n",
      "1\n",
      "2\n",
      "3\n",
      "4\n"
     ]
    }
   ],
   "source": [
    "#Q13. What is the difference between for and while loops?\n",
    "#Ans. The main difference between a for and  while loop in python lies in how and when they stop repeating.\n",
    "# for loop:\n",
    "#* Iterates over a sequence\n",
    "#* Used when a number of iterations is known or countable\n",
    "\n",
    "#Example:\n",
    "for i in range(5):\n",
    "    print(i)\n",
    "\n",
    "# while loop:\n",
    "#* repeats as long as the condition is True\n",
    "#* used when the number of iterations is unknown and depends on a condition\n",
    "\n",
    "#Example:\n",
    "i = 0\n",
    "while i < 5:\n",
    "    print(i)\n",
    "    i += 1"
   ]
  },
  {
   "cell_type": "code",
   "execution_count": null,
   "id": "ec1eab17-dcaa-47e4-a145-814bc1e016b4",
   "metadata": {},
   "outputs": [
    {
     "name": "stdin",
     "output_type": "stream",
     "text": [
      "Enter password:  12\n",
      "Enter password:  12\n",
      "Enter password:  12\n"
     ]
    }
   ],
   "source": [
    "#Q14. Describe a scenario where a while loop is more suitable than a for loop?\n",
    "#Ans. A while loop is more suitable when you do not know in advance how many times the loop should run - you only know the stopping condition.\n",
    "# Scenario: you are promoting a user to enter the correct password.you do not know how many tries it will take, so you use a while loop to keep asking until the correct password is entered.\n",
    "correct_password = \"openAI\"\n",
    "user_input = \"\"\n",
    "while user_input != correct_password:\n",
    "    user_input = input(\"Enter password: \")\n",
    "print(\"Access granted.\")"
   ]
  },
  {
   "cell_type": "markdown",
   "id": "7ab07ed9-fde9-431a-a009-b5e9bdb2e3a2",
   "metadata": {},
   "source": [
    "#Practical Question And Answers"
   ]
  },
  {
   "cell_type": "code",
   "execution_count": 2,
   "id": "26acdaf5-6ce1-4db6-9901-246099215a2a",
   "metadata": {},
   "outputs": [
    {
     "name": "stdout",
     "output_type": "stream",
     "text": [
      "Hello World\n"
     ]
    }
   ],
   "source": [
    "#Q1. Write a Python program to print \"Hello, World!\"\n",
    "#Ans. Here is a python program that print \"Hello world\":\n",
    "print(\"Hello World\")"
   ]
  },
  {
   "cell_type": "code",
   "execution_count": 4,
   "id": "60ac78ef-ac05-4937-9db2-592dd0e4ba98",
   "metadata": {},
   "outputs": [
    {
     "name": "stdout",
     "output_type": "stream",
     "text": [
      "name: Shahzeb\n",
      "age: 27\n"
     ]
    }
   ],
   "source": [
    "#Q2. Write a Python program that displays your name and age?\n",
    "#Ans.Here is the python program that display Nmae and Age:\n",
    "name = \"Shahzeb\"\n",
    "age =\"27\"\n",
    "print(\"name:\", name)\n",
    "print(\"age:\", age)"
   ]
  },
  {
   "cell_type": "code",
   "execution_count": 6,
   "id": "2def9d77-a037-48a7-a949-429981a1d3ae",
   "metadata": {},
   "outputs": [
    {
     "name": "stdout",
     "output_type": "stream",
     "text": [
      "Python Keywords:\n",
      "False\n",
      "None\n",
      "True\n",
      "and\n",
      "as\n",
      "assert\n",
      "async\n",
      "await\n",
      "break\n",
      "class\n",
      "continue\n",
      "def\n",
      "del\n",
      "elif\n",
      "else\n",
      "except\n",
      "finally\n",
      "for\n",
      "from\n",
      "global\n",
      "if\n",
      "import\n",
      "in\n",
      "is\n",
      "lambda\n",
      "nonlocal\n",
      "not\n",
      "or\n",
      "pass\n",
      "raise\n",
      "return\n",
      "try\n",
      "while\n",
      "with\n",
      "yield\n"
     ]
    }
   ],
   "source": [
    "#Q3. Write code to print all the pre-defined keywords in Python using the keyword library?\n",
    "#Ans. Here is the python program that prints all the predefined keywords using the keyword library:\n",
    "import keyword\n",
    "keywords_list = keyword.kwlist\n",
    "print(\"Python Keywords:\")\n",
    "for kw in keywords_list:\n",
    "    print(kw)"
   ]
  },
  {
   "cell_type": "code",
   "execution_count": 16,
   "id": "30a4afd7-9526-4bb9-9cc2-40e88c100b10",
   "metadata": {},
   "outputs": [
    {
     "name": "stdin",
     "output_type": "stream",
     "text": [
      "Enter a word:  while\n"
     ]
    },
    {
     "name": "stdout",
     "output_type": "stream",
     "text": [
      "'while' is a python keyword.\n"
     ]
    }
   ],
   "source": [
    "#Q4. Write a program that checks if a given word is a Python keyword?\n",
    "#Ans. here is a program that checks if a given word is a python keyword:\n",
    "import keyword\n",
    "word = input(\"Enter a word: \")\n",
    "if keyword.iskeyword(word):\n",
    "    print(f\"'{word}' is a python keyword.\")\n",
    "else:\n",
    "    print(f\"'{word}' is NOT a python keyword.\")"
   ]
  },
  {
   "cell_type": "code",
   "execution_count": 18,
   "id": "8541428f-926d-45c6-9574-7c271f00082f",
   "metadata": {},
   "outputs": [
    {
     "name": "stdout",
     "output_type": "stream",
     "text": [
      "original list: [1, 2, 3]\n",
      "modified list: [1, 2, 3]\n",
      "original tuple: [1, 2, 3]\n"
     ]
    }
   ],
   "source": [
    "#Q5. Create a list and tuple in Python, and demonstrate how attempting to change an element works differently for each.\n",
    "#Ans. Here is a python example that shows the difference between a list(mutable) and a tuple(immutable) when trying to change an element:\n",
    "my_list = [1, 2, 3]\n",
    "my_tuple = [1, 2, 3]\n",
    "print(\"original list:\", my_list)\n",
    "print(\"modified list:\", my_list)\n",
    "print(\"original tuple:\", my_tuple)\n",
    "try:\n",
    "    my_tuple[0] = 10\n",
    "except TypeError as e:\n",
    "    print(\"Error when trying to modify tuple:\", e)"
   ]
  },
  {
   "cell_type": "code",
   "execution_count": 28,
   "id": "ce43c818-e141-4618-9430-5da5467c5027",
   "metadata": {},
   "outputs": [
    {
     "name": "stdout",
     "output_type": "stream",
     "text": [
      "Before function call:\n",
      "num: 5\n",
      "lst: [1, 2, 3]\n",
      "\n",
      "Inside function before modification:\n",
      "a_number: 5\n",
      "a_list: [1, 2, 3]\n",
      "\n",
      "Inside function after modification:\n",
      "a_number: 15\n",
      "a_list: [1, 2, 3, 100]\n",
      "\n",
      "After function call:\n",
      "num: 5\n",
      "lst: [1, 2, 3, 100]\n"
     ]
    }
   ],
   "source": [
    "#Q6.  Write a function to demonstrate the behavior of mutable and immutable arguments.\n",
    "#Ans. Here are python function that demonstrates how mutable and immutable arguments behave differently when passed to functions:\n",
    "def modify_arguments(a_number, a_list):\n",
    "    print(\"\\nInside function before modification:\")\n",
    "    print(\"a_number:\", a_number)\n",
    "    print(\"a_list:\", a_list)\n",
    "    a_number += 10\n",
    "    a_list.append(100)\n",
    "    print(\"\\nInside function after modification:\")\n",
    "    print(\"a_number:\", a_number)\n",
    "    print(\"a_list:\", a_list)\n",
    "num = 5\n",
    "lst = [1, 2, 3]\n",
    "print(\"Before function call:\")\n",
    "print(\"num:\", num)\n",
    "print(\"lst:\", lst)\n",
    "modify_arguments(num, lst)\n",
    "print(\"\\nAfter function call:\")\n",
    "print(\"num:\", num)\n",
    "print(\"lst:\", lst)"
   ]
  },
  {
   "cell_type": "code",
   "execution_count": 30,
   "id": "b9090b8e-dda5-4912-b958-17e66c74b9ee",
   "metadata": {},
   "outputs": [
    {
     "name": "stdin",
     "output_type": "stream",
     "text": [
      "Enter first number:  2\n",
      "Enter second number:  3\n"
     ]
    },
    {
     "name": "stdout",
     "output_type": "stream",
     "text": [
      "\n",
      "Results:\n",
      "Addition: 2.0 + 3.0 = 5.0\n",
      "Substraction: 2.0 - 3.0 = -1.0\n",
      "Multiplication: 2.0 * 3.0 = 6.0\n",
      "Division: 2.0 / 3.0 = 0.6666666666666666\n",
      "Modulus: 2.0 % 3.0 = 2.0\n"
     ]
    }
   ],
   "source": [
    "#Q7.  Write a program that performs basic arithmetic operations on two user-input numbers.\n",
    "#Ans. Here is a simple python program that takes two numbers from the user and performs basic arithemetic operations:\n",
    "num1 = float(input(\"Enter first number: \"))\n",
    "num2 = float(input(\"Enter second number: \"))\n",
    "print(\"\\nResults:\")\n",
    "print(f\"Addition: {num1} + {num2} = {num1 + num2}\")\n",
    "print(f\"Substraction: {num1} - {num2} = {num1 - num2}\")\n",
    "print(f\"Multiplication: {num1} * {num2} = {num1 * num2}\")\n",
    "if num2 !=0:\n",
    "    print(f\"Division: {num1} / {num2} = {num1 / num2}\")\n",
    "    print(f\"Modulus: {num1} % {num2} = {num1 % num2}\")\n",
    "else:\n",
    "    print(\"Division and modulus not possible(division by zero).\")"
   ]
  },
  {
   "cell_type": "code",
   "execution_count": 32,
   "id": "4f58bdb0-7d40-47ac-852a-632e2a4871bc",
   "metadata": {},
   "outputs": [
    {
     "name": "stdin",
     "output_type": "stream",
     "text": [
      "Enter first number:  5\n",
      "Enter second number:  8\n"
     ]
    },
    {
     "name": "stdout",
     "output_type": "stream",
     "text": [
      "\n",
      "Logical Operations:\n",
      "Both numbers are positive.\n",
      "Neither number is zero.\n",
      "Is 'a' not negative? True\n"
     ]
    }
   ],
   "source": [
    "#Q8.  Write a program to demonstrate the use of logical operators.\n",
    "#Ans. Here a python program that demonstrate the use of logical operators:\n",
    "a = int(input(\"Enter first number: \"))\n",
    "b = int(input(\"Enter second number: \"))\n",
    "print(\"\\nLogical Operations:\")\n",
    "if a > 0 and b > 0:\n",
    "    print(\"Both numbers are positive.\")\n",
    "else:\n",
    "    print(\"At least one number is not positive.\")\n",
    "if a == 0 or b ==0:\n",
    "    print(\"At least one number is zero.\")\n",
    "else:\n",
    "    print(\"Neither number is zero.\")\n",
    "    print(\"Is 'a' not negative?\", not (a < 0))"
   ]
  },
  {
   "cell_type": "code",
   "execution_count": 40,
   "id": "021b8b11-18b9-4d6e-9c71-a319cd8da6ae",
   "metadata": {},
   "outputs": [
    {
     "ename": "SyntaxError",
     "evalue": "expected 'except' or 'finally' block (3272102493.py, line 8)",
     "output_type": "error",
     "traceback": [
      "\u001b[1;36m  Cell \u001b[1;32mIn[40], line 8\u001b[1;36m\u001b[0m\n\u001b[1;33m    try:\u001b[0m\n\u001b[1;37m    ^\u001b[0m\n\u001b[1;31mSyntaxError\u001b[0m\u001b[1;31m:\u001b[0m expected 'except' or 'finally' block\n"
     ]
    }
   ],
   "source": [
    "#Q9. Write a Python program to convert user input from string to integer, float, and boolean types.\n",
    "#Ans. Here are some python program that convert user input from a string to integr,float,and boolean types:\n",
    "user_input = input(\"Enter a value: \")\n",
    "try:\n",
    "    int_value + int(user_input)\n",
    "    print(\"Integer:\", int_value)\n",
    "    print(\"Cannot convert to integer.\")\n",
    "try:\n",
    "    float_value = float(user_input)\n",
    "    print(\"Float:\", float_value)\n",
    "except ValueError:\n",
    "    print(\"Cannot convert to float.\")\n",
    "boo_value = user_input.lower() not in (\"\", \"0\", \"false\", \"none\")\n",
    "    print(\"Boolean:\", bool_value)"
   ]
  },
  {
   "cell_type": "code",
   "execution_count": 49,
   "id": "ff0a0714-eecc-4282-8fa9-da36fec2af69",
   "metadata": {},
   "outputs": [
    {
     "name": "stdout",
     "output_type": "stream",
     "text": [
      "integer list: [10, 20, 30, 40]\n",
      "float list: [10.0, 20.0, 30.0, 40.0]\n",
      "boolean list: [True, True, True, True]\n"
     ]
    }
   ],
   "source": [
    "#Q10. Write code to demonstrate type casting with list elements.\n",
    "#Ans. Here is a python program that demonstrates typecasting with list elements:\n",
    "str_list =[\"10\", \"20\", \"30\", \"40\"]\n",
    "int_list = [int(item) for item in str_list]\n",
    "print(\"integer list:\", int_list)\n",
    "float_list = [float(item) for item in str_list]\n",
    "print(\"float list:\", float_list)\n",
    "bool_list = [bool(item) for item in str_list]\n",
    "print(\"boolean list:\", bool_list)"
   ]
  },
  {
   "cell_type": "code",
   "execution_count": 57,
   "id": "f9cb814b-f560-4a3a-97e5-0ee576c68cf9",
   "metadata": {},
   "outputs": [
    {
     "name": "stdin",
     "output_type": "stream",
     "text": [
      "enter a number:  -2\n"
     ]
    },
    {
     "name": "stdout",
     "output_type": "stream",
     "text": [
      "the number is negative.\n"
     ]
    }
   ],
   "source": [
    "#Q11. Write a program that checks if a number is positive, negative, or zero.\n",
    "#Ans. Here is a simple python program that checks if a number is positive, negative or zero.\n",
    "num = float(input(\"enter a number: \"))\n",
    "if num > 0:\n",
    "    print(\"the number is positive.\")\n",
    "elif num < 0:\n",
    "    print(\"the number is negative.\")\n",
    "else:\n",
    "    print(\"the number is zero.\")"
   ]
  },
  {
   "cell_type": "code",
   "execution_count": 59,
   "id": "5d27bc98-7dea-4e35-92b2-b499b4712b11",
   "metadata": {},
   "outputs": [
    {
     "name": "stdout",
     "output_type": "stream",
     "text": [
      "1\n",
      "2\n",
      "3\n",
      "4\n",
      "5\n",
      "6\n",
      "7\n",
      "8\n",
      "9\n",
      "10\n"
     ]
    }
   ],
   "source": [
    "#Q12. Write a for loop to print numbers from 1 to 10.\n",
    "#Ans. Here is a simple for loop to print a number from 1 to 10:\n",
    "for i in range(1, 11):\n",
    "    print(i)"
   ]
  },
  {
   "cell_type": "code",
   "execution_count": 61,
   "id": "716c8bfc-4b31-4640-8df7-df0104e30144",
   "metadata": {},
   "outputs": [
    {
     "name": "stdout",
     "output_type": "stream",
     "text": [
      "sum of even numbers from 1 to 50 is: 2\n",
      "sum of even numbers from 1 to 50 is: 6\n",
      "sum of even numbers from 1 to 50 is: 12\n",
      "sum of even numbers from 1 to 50 is: 20\n",
      "sum of even numbers from 1 to 50 is: 30\n",
      "sum of even numbers from 1 to 50 is: 42\n",
      "sum of even numbers from 1 to 50 is: 56\n",
      "sum of even numbers from 1 to 50 is: 72\n",
      "sum of even numbers from 1 to 50 is: 90\n",
      "sum of even numbers from 1 to 50 is: 110\n",
      "sum of even numbers from 1 to 50 is: 132\n",
      "sum of even numbers from 1 to 50 is: 156\n",
      "sum of even numbers from 1 to 50 is: 182\n",
      "sum of even numbers from 1 to 50 is: 210\n",
      "sum of even numbers from 1 to 50 is: 240\n",
      "sum of even numbers from 1 to 50 is: 272\n",
      "sum of even numbers from 1 to 50 is: 306\n",
      "sum of even numbers from 1 to 50 is: 342\n",
      "sum of even numbers from 1 to 50 is: 380\n",
      "sum of even numbers from 1 to 50 is: 420\n",
      "sum of even numbers from 1 to 50 is: 462\n",
      "sum of even numbers from 1 to 50 is: 506\n",
      "sum of even numbers from 1 to 50 is: 552\n",
      "sum of even numbers from 1 to 50 is: 600\n",
      "sum of even numbers from 1 to 50 is: 650\n"
     ]
    }
   ],
   "source": [
    "#Q13.  Write a Python program to find the sum of all even numbers between 1 and 50.\n",
    "#Ans. Here is a pythn program that calculates the sum of all even numbers between 1 and 50.\n",
    "even_sum = 0\n",
    "for num in range(1, 51):\n",
    "    if num % 2 == 0:\n",
    "        even_sum += num\n",
    "        print(\"sum of even numbers from 1 to 50 is:\",even_sum)"
   ]
  },
  {
   "cell_type": "code",
   "execution_count": 63,
   "id": "81dab97d-1340-4113-b904-2944c4f0f8b4",
   "metadata": {},
   "outputs": [
    {
     "name": "stdin",
     "output_type": "stream",
     "text": [
      "enter a string:  4\n"
     ]
    },
    {
     "name": "stdout",
     "output_type": "stream",
     "text": [
      "reversed string: 4\n"
     ]
    }
   ],
   "source": [
    "#Q14. Write a program to reverse a string using a while loop.\n",
    "#Ans. Here is a python program that reverse using a while loop:\n",
    "text = input(\"enter a string: \")\n",
    "reversed_text = \"\"\n",
    "index = len(text) - 1\n",
    "while index >= 0:\n",
    "    reversed_text += text[index]\n",
    "    index -= 1\n",
    "    print(\"reversed string:\", reversed_text)"
   ]
  },
  {
   "cell_type": "code",
   "execution_count": null,
   "id": "39473f1d-4960-491e-8944-e076ec4cee27",
   "metadata": {},
   "outputs": [],
   "source": [
    "#Q15.  Write a Python program to calculate the factorial of a number provided by the user using a while loop.\n",
    "#Ans. Here is a python program that calculates the factorial of a number using a while loop:\n",
    "num = int(input(\"enter a non-negative integer: \"))\n",
    "factorial = 1\n",
    "i = 1\n",
    "if num < 0:\n",
    "    print(\"factorial is not defined for a negative number,\")\n",
    "else:\n",
    "    while i <= num:\n",
    "        factorial *= i\n",
    "        print(f\"factorial of {num} is: {factorial}\")"
   ]
  },
  {
   "cell_type": "code",
   "execution_count": null,
   "id": "1f23155f-f873-49d3-aa51-62ec5fc3e709",
   "metadata": {},
   "outputs": [],
   "source": []
  },
  {
   "cell_type": "code",
   "execution_count": null,
   "id": "fe4a926f-3456-4de1-a1b1-0658bd106bc5",
   "metadata": {},
   "outputs": [],
   "source": []
  }
 ],
 "metadata": {
  "kernelspec": {
   "display_name": "Python [conda env:base] *",
   "language": "python",
   "name": "conda-base-py"
  },
  "language_info": {
   "codemirror_mode": {
    "name": "ipython",
    "version": 3
   },
   "file_extension": ".py",
   "mimetype": "text/x-python",
   "name": "python",
   "nbconvert_exporter": "python",
   "pygments_lexer": "ipython3",
   "version": "3.12.7"
  }
 },
 "nbformat": 4,
 "nbformat_minor": 5
}
